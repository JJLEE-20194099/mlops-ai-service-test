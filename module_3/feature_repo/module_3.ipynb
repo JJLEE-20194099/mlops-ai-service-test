{
 "cells": [
  {
   "cell_type": "markdown",
   "metadata": {},
   "source": [
    "# Module 3: Scheduling batch transformations with dbt, Airflow, and Feast"
   ]
  },
  {
   "cell_type": "markdown",
   "metadata": {},
   "source": [
    "## 1. Overview\n",
    "In this notebook, we see how to use dbt to automatically run batch transformations with Airflow, and run materialization once dbt has run its incremental model"
   ]
  },
  {
   "cell_type": "markdown",
   "metadata": {},
   "source": [
    "<img src=\"../architecture.png\" width=\"750\"/>"
   ]
  },
  {
   "cell_type": "markdown",
   "metadata": {},
   "source": [
    "# 2. Setup the feature store"
   ]
  },
  {
   "cell_type": "code",
   "execution_count": 8,
   "metadata": {},
   "outputs": [
    {
     "name": "stdout",
     "output_type": "stream",
     "text": [
      "env: SNOWFLAKE_DEPLOYMENT_URL=\"[YOUR DEPLOYMENT]\"\n",
      "env: SNOWFLAKE_USER=\"[YOUR USER]\"\n",
      "env: SNOWFLAKE_PASSWORD=\"[YOUR PASSWORD]\"\n",
      "env: SNOWFLAKE_ROLE=\"[YOUR ROLE]\"\n",
      "env: SNOWFLAKE_WAREHOUSE=\"[YOUR WAREHOUSE]\"\n",
      "env: SNOWFLAKE_DATABASE=\"[YOUR DATABASE]\"\n",
      "env: USAGE=False\n"
     ]
    }
   ],
   "source": [
    "%env SNOWFLAKE_DEPLOYMENT_URL=\"[YOUR DEPLOYMENT]\"\n",
    "%env SNOWFLAKE_USER=\"[YOUR USER]\"\n",
    "%env SNOWFLAKE_PASSWORD=\"[YOUR PASSWORD]\"\n",
    "%env SNOWFLAKE_ROLE=\"[YOUR ROLE]\"\n",
    "%env SNOWFLAKE_WAREHOUSE=\"[YOUR WAREHOUSE]\"\n",
    "%env SNOWFLAKE_DATABASE=\"[YOUR DATABASE]\"\n",
    "%env USAGE=False"
   ]
  },
  {
   "cell_type": "code",
   "execution_count": 2,
   "metadata": {},
   "outputs": [
    {
     "name": "stderr",
     "output_type": "stream",
     "text": [
      "/Users/dannychiao/.pyenv/versions/3.8.10/envs/python-3.8/lib/python3.8/site-packages/requests_toolbelt/_compat.py:56: DeprecationWarning: 'urllib3.contrib.pyopenssl' module is deprecated and will be removed in a future release of urllib3 2.x. Read more in this issue: https://github.com/urllib3/urllib3/issues/2680\n",
      "  from requests.packages.urllib3.contrib.pyopenssl \\\n"
     ]
    }
   ],
   "source": [
    "from feast import FeatureStore\n",
    "from datetime import datetime\n",
    "\n",
    "store = FeatureStore(repo_path=\".\")"
   ]
  },
  {
   "cell_type": "markdown",
   "metadata": {},
   "source": [
    "### Fetch training data from offline store\n",
    "Just to verify the features are in the batch sources."
   ]
  },
  {
   "cell_type": "code",
   "execution_count": 3,
   "metadata": {},
   "outputs": [
    {
     "name": "stdout",
     "output_type": "stream",
     "text": [
      "        USER_ID            event_timestamp CREDIT_SCORE     7D_AVG_AMT\n",
      "0   C1619346615 2021-07-14 03:41:33.973401          637  146595.646667\n",
      "1   C1894613709 2021-07-14 14:54:24.478003          573   72593.000000\n",
      "2    C938481695 2021-07-14 03:37:41.862083          550   81486.760000\n",
      "3   C1539734700 2021-07-14 03:38:02.177158          675   79342.800000\n",
      "4    C545219707 2021-07-15 03:50:16.217478          709  145267.880000\n",
      "5   C1248916744 2021-07-14 10:16:12.381417          690  403257.450000\n",
      "6    C715411011 2021-07-14 10:49:44.439814          670  229318.560000\n",
      "7   C1979950617 2021-07-14 14:58:14.942241          704    4010.840000\n",
      "8    C145981125 2021-07-15 03:49:26.870783          724    8006.030000\n",
      "9   C1017336142 2021-07-14 14:55:05.654883          550   78008.880000\n",
      "10   C939911592 2021-07-14 18:32:48.978282          720  159968.610000\n",
      "11     C6106605 2021-07-14 10:13:32.477179          645     474.280000\n",
      "12  C1498664405 2021-07-14 06:02:44.138693          550  133530.183333\n",
      "13   C448990180 2021-07-15 06:11:58.870514          721  106915.590000\n",
      "14  C1466258539 2021-07-15 00:39:13.186010          762  126270.440000\n",
      "15  C1613260159 2021-07-15 23:32:31.718026          631  162286.102500\n",
      "16  C2051962843 2021-07-15 00:36:30.449919          634    3090.710000\n",
      "17  C1523349186 2021-07-15 03:48:34.899486          694  139134.540000\n",
      "18  C1557703804 2021-07-15 03:49:21.969784          707    4211.030000\n",
      "19   C514268604 2021-07-14 10:51:46.157808          702   15598.860000\n"
     ]
    }
   ],
   "source": [
    "entity_sql = f\"\"\"\n",
    "    SELECT\n",
    "        NAMEORIG as USER_ID,\n",
    "        TIMESTAMP as \"event_timestamp\"\n",
    "    FROM {store.get_data_source(\"transactions_source\").get_table_query_string()}\n",
    "    WHERE TIMESTAMP BETWEEN '2021-07-14' and '2021-07-16'\n",
    "\"\"\"\n",
    "training_df = store.get_historical_features(\n",
    "    entity_df=entity_sql,\n",
    "    features=store.get_feature_service(\"model_v2\"),\n",
    ").to_df()\n",
    "print(training_df.head(20))"
   ]
  },
  {
   "cell_type": "markdown",
   "metadata": {},
   "source": [
    "## Materialize batch features & fetch online features from Redis\n",
    "We didn't materialize the full set of data with Airflow to save time / money. Now we selectively materialize so we can fetch the right online data."
   ]
  },
  {
   "cell_type": "code",
   "execution_count": 4,
   "metadata": {},
   "outputs": [
    {
     "name": "stdout",
     "output_type": "stream",
     "text": [
      "/Users/dannychiao/.pyenv/versions/3.8.10/envs/python-3.8/lib/python3.8/site-packages/requests_toolbelt/_compat.py:56: DeprecationWarning: 'urllib3.contrib.pyopenssl' module is deprecated and will be removed in a future release of urllib3 2.x. Read more in this issue: https://github.com/urllib3/urllib3/issues/2680\n",
      "  from requests.packages.urllib3.contrib.pyopenssl \\\n",
      "Materializing \u001b[1m\u001b[32m2\u001b[0m feature views from \u001b[1m\u001b[32m2021-07-13 20:00:00-04:00\u001b[0m to \u001b[1m\u001b[32m2021-07-15 20:00:00-04:00\u001b[0m into the \u001b[1m\u001b[32mredis\u001b[0m online store.\n",
      "\n",
      "\u001b[1m\u001b[32mcredit_scores_features\u001b[0m:\n",
      "100%|████████████████████████████████████████████████████| 654482/654482 [00:37<00:00, 17375.42it/s]\n",
      "\u001b[1m\u001b[32maggregate_transactions_features\u001b[0m:\n",
      "100%|██████████████████████████████████████████████████████| 54991/54991 [00:03<00:00, 17412.26it/s]\n"
     ]
    }
   ],
   "source": [
    "!feast materialize 2021-07-14 2021-07-16"
   ]
  },
  {
   "cell_type": "markdown",
   "metadata": {},
   "source": [
    "#### SDK based online retrieval\n",
    "Now we can retrieve these materialized features from Redis by directly using the SDK. This is one of the most popular ways to retrieve features with Feast since it allows you to integrate with an existing service (e.g. a Flask) that also handles model inference or pre/post-processing"
   ]
  },
  {
   "cell_type": "code",
   "execution_count": 5,
   "metadata": {},
   "outputs": [
    {
     "name": "stdout",
     "output_type": "stream",
     "text": [
      "7D_AVG_AMT  :  [332090.0]\n",
      "CREDIT_SCORE  :  [680]\n",
      "USER_ID  :  ['C1835422371']\n"
     ]
    }
   ],
   "source": [
    "features = store.get_online_features(\n",
    "    features=store.get_feature_service(\"model_v2\"),\n",
    "    entity_rows=[\n",
    "        {\n",
    "            \"USER_ID\": \"C1835422371\",\n",
    "        }\n",
    "    ],\n",
    ").to_dict()\n",
    "\n",
    "def print_online_features(features):\n",
    "    for key, value in sorted(features.items()):\n",
    "        print(key, \" : \", value)\n",
    "\n",
    "print_online_features(features)"
   ]
  },
  {
   "cell_type": "markdown",
   "metadata": {},
   "source": [
    "#### HTTP based online retrieval\n",
    "We can also retrieve from a deployed feature server. We had previously deployed this with Docker Compose (see [docker-compose.yml](../docker-compose.yml))\n",
    "\n",
    "This can be preferable for many reasons. If you want to build an in-memory cache, caching on a central feature server can allow more effective caching across teams. You can also more centrally manage rate-limiting / access control, upgrade Feast versions independently, etc."
   ]
  },
  {
   "cell_type": "code",
   "execution_count": 7,
   "metadata": {},
   "outputs": [
    {
     "name": "stdout",
     "output_type": "stream",
     "text": [
      "{\n",
      "    \"metadata\": {\n",
      "        \"feature_names\": [\n",
      "            \"USER_ID\",\n",
      "            \"CREDIT_SCORE\",\n",
      "            \"7D_AVG_AMT\"\n",
      "        ]\n",
      "    },\n",
      "    \"results\": [\n",
      "        {\n",
      "            \"event_timestamps\": [\n",
      "                \"1970-01-01T00:00:00Z\"\n",
      "            ],\n",
      "            \"statuses\": [\n",
      "                \"PRESENT\"\n",
      "            ],\n",
      "            \"values\": [\n",
      "                \"C1570470538\"\n",
      "            ]\n",
      "        },\n",
      "        {\n",
      "            \"event_timestamps\": [\n",
      "                \"1970-01-01T00:00:00Z\"\n",
      "            ],\n",
      "            \"statuses\": [\n",
      "                \"PRESENT\"\n",
      "            ],\n",
      "            \"values\": [\n",
      "                null\n",
      "            ]\n",
      "        },\n",
      "        {\n",
      "            \"event_timestamps\": [\n",
      "                \"2021-07-14T09:54:26Z\"\n",
      "            ],\n",
      "            \"statuses\": [\n",
      "                \"PRESENT\"\n",
      "            ],\n",
      "            \"values\": [\n",
      "                32451.919921875\n",
      "            ]\n",
      "        }\n",
      "    ]\n",
      "}\n"
     ]
    }
   ],
   "source": [
    "import requests\n",
    "import json\n",
    "\n",
    "online_request = {\n",
    "  \"feature_service\": \"model_v2\",\n",
    "  \"entities\": {\n",
    "    \"USER_ID\": [\"C1570470538\"]\n",
    "  }\n",
    "}\n",
    "r = requests.post('http://localhost:6566/get-online-features', data=json.dumps(online_request))\n",
    "print(json.dumps(r.json(), indent=4, sort_keys=True))"
   ]
  },
  {
   "cell_type": "code",
   "execution_count": null,
   "metadata": {},
   "outputs": [],
   "source": []
  }
 ],
 "metadata": {
  "interpreter": {
   "hash": "7d634b9af180bcb32a446a43848522733ff8f5bbf0cc46dba1a83bede04bf237"
  },
  "kernelspec": {
   "display_name": "Python 3.8.10 64-bit ('python-3.8')",
   "language": "python",
   "name": "python3"
  },
  "language_info": {
   "codemirror_mode": {
    "name": "ipython",
    "version": 3
   },
   "file_extension": ".py",
   "mimetype": "text/x-python",
   "name": "python",
   "nbconvert_exporter": "python",
   "pygments_lexer": "ipython3",
   "version": "3.8.10"
  },
  "orig_nbformat": 4
 },
 "nbformat": 4,
 "nbformat_minor": 2
}
